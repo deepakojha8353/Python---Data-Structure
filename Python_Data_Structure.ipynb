{
  "nbformat": 4,
  "nbformat_minor": 0,
  "metadata": {
    "colab": {
      "provenance": []
    },
    "kernelspec": {
      "name": "python3",
      "display_name": "Python 3"
    },
    "language_info": {
      "name": "python"
    }
  },
  "cells": [
    {
      "cell_type": "markdown",
      "source": [
        "\n",
        "### **THEORY**\n",
        "\n",
        "**Q1. What are data structures, and why are they important?**\n",
        "\n",
        "- Data structures are organized ways to store, manage, and retrieve data. They are important because they make our programs efficient and help handle large amounts of data quickly—for example, lists, dictionaries, and sets.\n",
        "\n",
        "\n",
        "\n",
        "**Q2. Explain the difference between mutable and immutable data types with examples.**\n",
        "\n",
        "- **Mutable**: Can be changed after creation (e.g., list).\n",
        "\n",
        "- python\n",
        "  a = [1, 2, 3]\n",
        "  a[0] = 10  # Changes the list\n",
        "  \n",
        "- **Immutable**: Cannot be changed after creation (e.g., tuple, string).\n",
        "\n",
        "- python\n",
        "  b = \"hello\"\n",
        "  b[0] = \"H\"  # Error, strings are immutable\n",
        "\n",
        "**Q3. What are the main differences between lists and tuples in Python?**\n",
        "\n",
        "- **List**: Mutable, uses [], slower, allows changes.\n",
        "- **Tuple**: Immutable, uses (), faster, safer for fixed data.\n",
        "\n",
        "**Q4. Describe how dictionaries store data.**\n",
        "\n",
        "- Dictionaries store data as key-value pairs inside {}. Each key is unique and maps to a value.\n",
        "\n",
        "- python\n",
        "student = {\"name\": \"Ali\", \"age\": 20}\n",
        "\n",
        "**Q5. Why might you use a set instead of a list in Python?**\n",
        "\n",
        "- Sets automatically remove duplicates and are faster for membership checks.\n",
        "\n",
        "python\n",
        "set1 = {1, 2, 2, 3}  # becomes {1, 2, 3}\n",
        "\n",
        "\n",
        "**Q6. What is a string in Python, and how is it different from a list?**\n",
        "\n",
        "\n",
        "- A **string** is a sequence of characters (immutable).\n",
        "- A **list** is a collection of any type of elements (mutable).\n",
        "\n",
        "- python\n",
        "s = \"hello\"\n",
        "l = ['h', 'e', 'l', 'l', 'o']\n",
        "\n",
        "\n",
        "**Q7. How do tuples ensure data integrity in Python?**\n",
        "\n",
        "- Tuples can't be changed after creation. This makes sure data stays constant and safe.\n",
        "\n",
        "**Q8. What is a hash table, and how does it relate to dictionaries in Python?**\n",
        "\n",
        "- A hash table stores data using a key and its hash value. Python dictionaries are built using hash tables to quickly find keys.\n",
        "\n",
        "\n",
        "**Q9. Can lists contain different data types in Python?**\n",
        "- Yes! Python lists can store integers, strings, other lists, etc.\n",
        "\n",
        "- python\n",
        "  mixed = [1, \"two\", 3.0, [4, 5]]\n",
        "\n",
        "**Q10. Explain why strings are immutable in Python.**\n",
        "\n",
        "Strings are immutable for memory safety and performance. Changing one would mean creating a new one, which avoids unexpected bugs.\n",
        "\n",
        "**Q11. What advantages do dictionaries offer over lists for certain tasks?**\n",
        "\n",
        "- Dictionaries are faster for lookup using keys. Lists need to search item by item, which is slower.\n",
        "\n",
        "\n",
        "**Q12. Describe a scenario where using a tuple would be preferable over a list.**\n",
        "\n",
        "- When I want to store data that shouldn't change—like coordinates (x, y)—I use a tuple to avoid accidental edits.\n",
        "\n",
        "**Q13. How do sets handle duplicate values in Python?**\n",
        "\n",
        "- Sets don’t allow duplicates. If we add the same value again, it gets ignored.\n",
        "\n",
        "- python\n",
        "s = {1, 2, 2}  # becomes {1, 2}\n",
        "\n",
        "\n",
        "**Q14. How does the “in” keyword work differently for lists and dictionaries?**\n",
        "\n",
        "- In **lists**, in checks if an item exists in the list.\n",
        "- In **dictionaries**, it checks if the **key** exists, not the value.\n",
        "\n",
        "**Q15. Can you modify the elements of a tuple? Explain why or why not.**\n",
        "\n",
        "- Tuples are immutable. You can't change, add, or remove elements once created.\n",
        "\n",
        "\n",
        "**Q16. What is a nested dictionary, and give an example of its use case.**\n",
        "\n",
        "- A nested dictionary means a dictionary inside another. It helps in storing complex data.\n",
        "\n",
        "- python\n",
        "students = {\n",
        "  \"John\": {\"age\": 20, \"city\": \"NY\"},\n",
        "  \"Alice\": {\"age\": 22, \"city\": \"LA\"}\n",
        "}\n",
        "\n",
        "\n",
        "**Q17. Describe the time complexity of accessing elements in a dictionary.**\n",
        "\n",
        "- Accessing a value using a key is O(1) time complexity—super fast because of hash tables.\n",
        "\n",
        "**Q18. In what situations are lists preferred over dictionaries?**\n",
        "\n",
        "- Lists are better when we care about order, need to loop through items, or when we don't need key-value pairing.\n",
        "\n",
        "\n",
        "**Q19. Why are dictionaries considered unordered, and how does that affect data retrieval?**\n",
        "\n",
        "- Older Python versions (<3.7) stored dictionary keys in random order. This made looping unpredictable. Newer versions maintain insertion order, but keys still aren't accessed by position like lists.\n",
        "\n",
        "\n",
        "**Q20. Explain the difference between a list and a dictionary in terms of data retrieval.**\n",
        "\n",
        "-  **List**: Access by index (e.g., a[0])\n",
        "-  **Dictionary**: Access by key (e.g., d[\"name\"])\n",
        "  Dictionaries are faster for lookups when key-based.\n",
        "\n"
      ],
      "metadata": {
        "id": "3PC8KQYIM1Ji"
      }
    },
    {
      "cell_type": "code",
      "execution_count": 2,
      "metadata": {
        "colab": {
          "base_uri": "https://localhost:8080/"
        },
        "id": "hUxBLjiNKKUP",
        "outputId": "3f592bed-409a-45d8-e86d-2362320964d0"
      },
      "outputs": [
        {
          "output_type": "stream",
          "name": "stdout",
          "text": [
            "deepak\n"
          ]
        }
      ],
      "source": [
        "#1. Write a code to create a string with your name and print it.\n",
        "a = \"deepak\"\n",
        "print(a)\n"
      ]
    },
    {
      "cell_type": "code",
      "source": [
        "#2. write a code to find the length of the string \"Hello World\".\n",
        "string = \"Hello World\"\n",
        "length = len(string)\n",
        "print(length)"
      ],
      "metadata": {
        "colab": {
          "base_uri": "https://localhost:8080/"
        },
        "id": "QRp5CQfaQleG",
        "outputId": "d413da04-3e21-4d07-debb-ec607bfc7cca"
      },
      "execution_count": 3,
      "outputs": [
        {
          "output_type": "stream",
          "name": "stdout",
          "text": [
            "11\n"
          ]
        }
      ]
    },
    {
      "cell_type": "code",
      "source": [
        "#3. Write a code to slice the first 3 characters from the string \"Python Programming\"\n",
        "string = \"Python Programming\"\n",
        "print(string[:3])"
      ],
      "metadata": {
        "colab": {
          "base_uri": "https://localhost:8080/"
        },
        "id": "5ymvlATJRBF3",
        "outputId": "f27ad4d1-6ac7-4710-c04f-5e1325d79247"
      },
      "execution_count": 7,
      "outputs": [
        {
          "output_type": "stream",
          "name": "stdout",
          "text": [
            "Pyt\n"
          ]
        }
      ]
    },
    {
      "cell_type": "code",
      "source": [
        "#4. Write a code to convert the string \"hello\" to uppercase.\n",
        "string = \"hello\"\n",
        "print(string.upper())"
      ],
      "metadata": {
        "colab": {
          "base_uri": "https://localhost:8080/"
        },
        "id": "1tZvxFm5RKuP",
        "outputId": "a0cd9d77-d116-4f01-a074-34e7b9d840cb"
      },
      "execution_count": 8,
      "outputs": [
        {
          "output_type": "stream",
          "name": "stdout",
          "text": [
            "HELLO\n"
          ]
        }
      ]
    },
    {
      "cell_type": "code",
      "source": [
        "#5. Write a code to replace the word \"apple\" with \"orange\" in the string \"I like apple\"\n",
        "a = \"I like apple\"\n",
        "print(a.replace(\"apple\", \"orange\"))\n"
      ],
      "metadata": {
        "colab": {
          "base_uri": "https://localhost:8080/"
        },
        "id": "8C_Ivz5lR6KY",
        "outputId": "69a9ab7f-838e-4f3d-a2ce-9438888aa9d0"
      },
      "execution_count": 11,
      "outputs": [
        {
          "output_type": "stream",
          "name": "stdout",
          "text": [
            "I like orange\n"
          ]
        }
      ]
    },
    {
      "cell_type": "code",
      "source": [
        "#6. Write a code to create a list with numbers 1 to 5 and print it.\n",
        "a = [1,2,3,4,5]\n",
        "print(a)"
      ],
      "metadata": {
        "colab": {
          "base_uri": "https://localhost:8080/"
        },
        "id": "lFV9iabqSEUS",
        "outputId": "e1baf14a-10b5-45e1-a224-e954e77d9942"
      },
      "execution_count": 13,
      "outputs": [
        {
          "output_type": "stream",
          "name": "stdout",
          "text": [
            "[1, 2, 3, 4, 5]\n"
          ]
        }
      ]
    },
    {
      "cell_type": "code",
      "source": [
        "#7. Write a code to append the number 10 to the list [1, 2, 3, 4].\n",
        "list_a = [1, 2, 3, 4]\n",
        "list_a.append(10)\n",
        "print(list_a)\n"
      ],
      "metadata": {
        "colab": {
          "base_uri": "https://localhost:8080/"
        },
        "id": "UbZCuI4aSVGE",
        "outputId": "c3587855-b21e-465b-d0ee-1243c496206e"
      },
      "execution_count": 20,
      "outputs": [
        {
          "output_type": "stream",
          "name": "stdout",
          "text": [
            "[1, 2, 3, 4, 10]\n"
          ]
        }
      ]
    },
    {
      "cell_type": "code",
      "source": [
        "#8.Write a code to remove the number 3 from the list [1, 2, 3, 4, 5].\n",
        "list_a = [1, 2, 3, 4, 5]\n",
        "list_a.remove(3)\n",
        "print(list_a)"
      ],
      "metadata": {
        "colab": {
          "base_uri": "https://localhost:8080/"
        },
        "id": "1zuqRWBQSlhv",
        "outputId": "cfc1e5dc-a34c-40d1-fb8e-28c790f28720"
      },
      "execution_count": 21,
      "outputs": [
        {
          "output_type": "stream",
          "name": "stdout",
          "text": [
            "[1, 2, 4, 5]\n"
          ]
        }
      ]
    },
    {
      "cell_type": "code",
      "source": [
        "#9. Write a code to access the second element in the list ['a', 'b', 'c', 'd'].\n",
        "list_a = ['a', 'b', 'c', 'd']\n",
        "print(list_a[1])"
      ],
      "metadata": {
        "colab": {
          "base_uri": "https://localhost:8080/"
        },
        "id": "N0Wnx3sfTXwh",
        "outputId": "0d08e9bc-1006-46df-bcbb-3197020c8703"
      },
      "execution_count": 22,
      "outputs": [
        {
          "output_type": "stream",
          "name": "stdout",
          "text": [
            "b\n"
          ]
        }
      ]
    },
    {
      "cell_type": "code",
      "source": [
        "#10. Write a code to reverse the list [10, 20, 30, 40, 50].\n",
        "list_a = [10, 20, 30, 40, 50]\n",
        "print(list_a[::-1])"
      ],
      "metadata": {
        "colab": {
          "base_uri": "https://localhost:8080/"
        },
        "id": "7T_Bv-Z2Tj_F",
        "outputId": "97189f0b-29bc-4817-c4b4-5c5d7bd1e21b"
      },
      "execution_count": 23,
      "outputs": [
        {
          "output_type": "stream",
          "name": "stdout",
          "text": [
            "[50, 40, 30, 20, 10]\n"
          ]
        }
      ]
    },
    {
      "cell_type": "code",
      "source": [
        "# 11. Write a code to create a tuple with the elements 100, 200, 300 and print.\n",
        "tuple_a = (100, 200, 300)\n",
        "print(tuple_a)"
      ],
      "metadata": {
        "colab": {
          "base_uri": "https://localhost:8080/"
        },
        "id": "dWJbf3JYUEZD",
        "outputId": "e26696f5-7231-4ea1-8443-bf46578ef3b2"
      },
      "execution_count": 24,
      "outputs": [
        {
          "output_type": "stream",
          "name": "stdout",
          "text": [
            "(100, 200, 300)\n"
          ]
        }
      ]
    },
    {
      "cell_type": "code",
      "source": [
        "#12. Write a code to access the second-to-last element of the tuple ('red', 'green', 'blue', 'yellow').\n",
        "tuple_a = ('red', 'green', 'blue', 'yellow')\n",
        "print(tuple_a[-2])"
      ],
      "metadata": {
        "colab": {
          "base_uri": "https://localhost:8080/"
        },
        "id": "-7_U4N9yUQct",
        "outputId": "a270c440-29b5-4033-ec1b-fceb4862d17b"
      },
      "execution_count": 25,
      "outputs": [
        {
          "output_type": "stream",
          "name": "stdout",
          "text": [
            "blue\n"
          ]
        }
      ]
    },
    {
      "cell_type": "code",
      "source": [
        "#13. Write a code to find the minimum number in the tuple (10, 20, 5, 15).\n",
        "num = (10, 20, 5, 15)\n",
        "print(min(num))"
      ],
      "metadata": {
        "colab": {
          "base_uri": "https://localhost:8080/"
        },
        "id": "EYgo9Y1dUW1h",
        "outputId": "675dd339-6ca9-4e10-a3eb-99a0e16c904b"
      },
      "execution_count": 27,
      "outputs": [
        {
          "output_type": "stream",
          "name": "stdout",
          "text": [
            "5\n"
          ]
        }
      ]
    },
    {
      "cell_type": "code",
      "source": [
        "#14. Write a code to find the index of the element \"cat\" in the tuple ('dog', 'cat', 'rabbit').\n",
        "tuple_a = ('dog', 'cat', 'rabbit')\n",
        "print(tuple_a.index('cat'))"
      ],
      "metadata": {
        "colab": {
          "base_uri": "https://localhost:8080/"
        },
        "id": "c-iMMljnUizD",
        "outputId": "8f5d97ef-0e2b-43ce-a0ca-3c0a56223209"
      },
      "execution_count": 28,
      "outputs": [
        {
          "output_type": "stream",
          "name": "stdout",
          "text": [
            "1\n"
          ]
        }
      ]
    },
    {
      "cell_type": "code",
      "source": [
        "#15. Write a code to create a tuple containing three different fruits and check if \"kiwi\" is in it.\n",
        "fruits = ('apple', 'kiwi', 'cherry')\n",
        "print('kiwi' in fruits)"
      ],
      "metadata": {
        "colab": {
          "base_uri": "https://localhost:8080/"
        },
        "id": "H4X3Qe-SUqy2",
        "outputId": "13ff707e-7951-4748-8648-8249fdc1ae4f"
      },
      "execution_count": 30,
      "outputs": [
        {
          "output_type": "stream",
          "name": "stdout",
          "text": [
            "True\n"
          ]
        }
      ]
    },
    {
      "cell_type": "code",
      "source": [
        "#16. Write a code to create a set with the elements 'a', 'b', 'c' and print it.\n",
        "a = {'a', 'b', 'c'}\n",
        "print(a)"
      ],
      "metadata": {
        "colab": {
          "base_uri": "https://localhost:8080/"
        },
        "id": "nwOvX02gU2FH",
        "outputId": "dded8c86-471f-499f-86bb-b3588e775704"
      },
      "execution_count": 35,
      "outputs": [
        {
          "output_type": "stream",
          "name": "stdout",
          "text": [
            "{'c', 'b', 'a'}\n"
          ]
        }
      ]
    },
    {
      "cell_type": "code",
      "source": [
        "#17. Write a code to clear all elements from the set {1, 2, 3, 4, 5}.\n",
        "set_a = {1, 2, 3, 4, 5}\n",
        "set_a.clear()\n",
        "print(set_a)"
      ],
      "metadata": {
        "colab": {
          "base_uri": "https://localhost:8080/"
        },
        "id": "Cs0ckHNIVD34",
        "outputId": "b2177f18-51a3-408d-9b35-d3f775c6ff52"
      },
      "execution_count": 36,
      "outputs": [
        {
          "output_type": "stream",
          "name": "stdout",
          "text": [
            "set()\n"
          ]
        }
      ]
    },
    {
      "cell_type": "code",
      "source": [
        "#18. Write a code to remove the element 4 from the set {1, 2, 3, 4}.\n",
        "a = {1, 2, 3, 4}\n",
        "a.remove(4)\n",
        "print(a)"
      ],
      "metadata": {
        "colab": {
          "base_uri": "https://localhost:8080/"
        },
        "id": "xV2asLVYVXau",
        "outputId": "7aebe923-8318-4a39-81ea-bc1a16b331be"
      },
      "execution_count": 38,
      "outputs": [
        {
          "output_type": "stream",
          "name": "stdout",
          "text": [
            "{1, 2, 3}\n"
          ]
        }
      ]
    },
    {
      "cell_type": "code",
      "source": [
        "#19. Write a code to find the union of two sets {1, 2, 3} and {3, 4, 5}.\n",
        "a = {1, 2, 3}\n",
        "b = {3, 4, 5}\n",
        "print(a.union(b))"
      ],
      "metadata": {
        "colab": {
          "base_uri": "https://localhost:8080/"
        },
        "id": "cku98rimVg4v",
        "outputId": "579ae0de-3ddf-4377-a0e1-af951cd22c0d"
      },
      "execution_count": 41,
      "outputs": [
        {
          "output_type": "stream",
          "name": "stdout",
          "text": [
            "{1, 2, 3, 4, 5}\n"
          ]
        }
      ]
    },
    {
      "cell_type": "code",
      "source": [
        "#20. Write a code to find the intersection of two sets {1, 2, 3} and {2, 3, 4}.\n",
        "a = {1, 2, 3}\n",
        "b = {2, 3, 4}\n",
        "print(a.intersection(b))"
      ],
      "metadata": {
        "colab": {
          "base_uri": "https://localhost:8080/"
        },
        "id": "1YrMk7V2Vs93",
        "outputId": "efa382c6-2dc3-4ead-c2f6-aa9569330b75"
      },
      "execution_count": 42,
      "outputs": [
        {
          "output_type": "stream",
          "name": "stdout",
          "text": [
            "{2, 3}\n"
          ]
        }
      ]
    },
    {
      "cell_type": "code",
      "source": [
        "#21. Write a code to create a dictionary with the keys \"name\", \"age\", and \"city\", and print it.\n",
        "a = {\"name\": \"Deepak\", \"age\": 22, \"city\": \"Patna\"}\n",
        "print(a)\n"
      ],
      "metadata": {
        "colab": {
          "base_uri": "https://localhost:8080/"
        },
        "id": "0qSDlsSHWARt",
        "outputId": "db153050-21a4-46fa-a22a-205a4c816343"
      },
      "execution_count": 44,
      "outputs": [
        {
          "output_type": "stream",
          "name": "stdout",
          "text": [
            "{'name': 'Deepak', 'age': 22, 'city': 'Patna'}\n"
          ]
        }
      ]
    },
    {
      "cell_type": "code",
      "source": [
        "#22. Write a code to add a new key-value pair \"country\": \"USA\" to the dictionary {'name': 'John', 'age': 25}.\n",
        "a= {'name': 'John', 'age': 25}\n",
        "a['country'] = 'USA'\n",
        "print(a)"
      ],
      "metadata": {
        "colab": {
          "base_uri": "https://localhost:8080/"
        },
        "id": "Ljuo5IseWQ_k",
        "outputId": "754c232a-b3ec-4b2a-c36c-7af4fe245fd7"
      },
      "execution_count": 48,
      "outputs": [
        {
          "output_type": "stream",
          "name": "stdout",
          "text": [
            "{'name': 'John', 'age': 25, 'country': 'USA'}\n"
          ]
        }
      ]
    },
    {
      "cell_type": "code",
      "source": [
        "#23. Write a code to access the value associated with the key \"name\" in the dictionary {'name': 'Alice', 'age': 30}.\n",
        "a = {'name': 'Alice', 'age': 30}\n",
        "print(a['name'])"
      ],
      "metadata": {
        "colab": {
          "base_uri": "https://localhost:8080/"
        },
        "id": "HpjGeIcuWtno",
        "outputId": "cf94280d-dcc0-4bdd-f76d-7141f6f7d518"
      },
      "execution_count": 49,
      "outputs": [
        {
          "output_type": "stream",
          "name": "stdout",
          "text": [
            "Alice\n"
          ]
        }
      ]
    },
    {
      "cell_type": "code",
      "source": [
        "#24. Write a code to remove the key \"age\" from the dictionary {'name': 'Bob', 'age': 22, 'city': 'New York'}.\n",
        "a = {'name': 'Bob', 'age': 22, 'city': 'New York'}\n",
        "del a['age']\n",
        "print(a)"
      ],
      "metadata": {
        "colab": {
          "base_uri": "https://localhost:8080/"
        },
        "id": "DK4WtA9-W3yf",
        "outputId": "bfb44169-df9a-4f10-9a58-8ab46eed0ad2"
      },
      "execution_count": 50,
      "outputs": [
        {
          "output_type": "stream",
          "name": "stdout",
          "text": [
            "{'name': 'Bob', 'city': 'New York'}\n"
          ]
        }
      ]
    },
    {
      "cell_type": "code",
      "source": [
        "#25. Write a code to check if the key \"city\" exists in the dictionary {'name': 'Alice', 'city': 'Paris'}.\n",
        "a = {'name': 'Alice', 'city': 'Paris'}\n",
        "print('city' in a)"
      ],
      "metadata": {
        "colab": {
          "base_uri": "https://localhost:8080/"
        },
        "id": "lML2Cl-EXNtm",
        "outputId": "0e6907a4-939b-4e5a-abd3-549e63b498ab"
      },
      "execution_count": 51,
      "outputs": [
        {
          "output_type": "stream",
          "name": "stdout",
          "text": [
            "True\n"
          ]
        }
      ]
    },
    {
      "cell_type": "code",
      "source": [
        "#26. Write a code to create a list, a tuple, and a dictionary, and print them all.\n",
        "\n",
        "list = [1, 2, 3, 4, 5]\n",
        "print(list)\n",
        "\n",
        "tuple = (1, 2, 3, 4, 5)\n",
        "print(tuple)"
      ],
      "metadata": {
        "colab": {
          "base_uri": "https://localhost:8080/"
        },
        "id": "w8PdLflHXTkY",
        "outputId": "9a72f114-f1ff-4b17-afdf-ecfff6fe5753"
      },
      "execution_count": 52,
      "outputs": [
        {
          "output_type": "stream",
          "name": "stdout",
          "text": [
            "[1, 2, 3, 4, 5]\n",
            "(1, 2, 3, 4, 5)\n"
          ]
        }
      ]
    },
    {
      "cell_type": "code",
      "source": [
        "#27. Write a code to create a list of 5 random numbers between 1 and 100, sort it in ascending order, and print the result.(replaced)\n",
        "import random\n",
        "list_a = random.sample(range(1, 101), 5)\n",
        "list_a.sort()\n",
        "print(list_a)\n"
      ],
      "metadata": {
        "colab": {
          "base_uri": "https://localhost:8080/"
        },
        "id": "blYR8JBoXYls",
        "outputId": "113e60de-24c2-436d-aabe-3b36e92ecde4"
      },
      "execution_count": 57,
      "outputs": [
        {
          "output_type": "stream",
          "name": "stdout",
          "text": [
            "[17, 35, 69, 71, 94]\n"
          ]
        }
      ]
    },
    {
      "cell_type": "code",
      "source": [
        "#28. Write a code to create a list with strings and print the element at the third index.\n",
        "list_a = [\"Krishna\", \"Karan\", \"Chirag\", \"Tarun\", \"Deepak\"]\n",
        "print(list_a[2])"
      ],
      "metadata": {
        "colab": {
          "base_uri": "https://localhost:8080/"
        },
        "id": "kc0jHbg8XnrH",
        "outputId": "c3056484-0b52-42e3-fc7f-ee7742e6ed45"
      },
      "execution_count": 59,
      "outputs": [
        {
          "output_type": "stream",
          "name": "stdout",
          "text": [
            "Chirag\n"
          ]
        }
      ]
    },
    {
      "cell_type": "code",
      "source": [
        "#29. Write a code to combine two dictionaries into one and print the result.\n",
        "a = {\"x\": 1, \"y\": 2}\n",
        "b = {\"y\": 3, \"z\": 4}\n",
        "combined = {**a, **b}\n",
        "print(combined)"
      ],
      "metadata": {
        "colab": {
          "base_uri": "https://localhost:8080/"
        },
        "id": "r9YITKmfYF2m",
        "outputId": "76e5c1f7-e571-4358-c5d1-8162807121ff"
      },
      "execution_count": 62,
      "outputs": [
        {
          "output_type": "stream",
          "name": "stdout",
          "text": [
            "{'x': 1, 'y': 3, 'z': 4}\n"
          ]
        }
      ]
    },
    {
      "cell_type": "code",
      "source": [
        "#30. Write a code to convert a list of strings into a set.\n",
        "list_a = [\"apple\", \"banana\", \"apple\", \"cherry\"]\n",
        "a = set(list_a)\n",
        "print(a)"
      ],
      "metadata": {
        "colab": {
          "base_uri": "https://localhost:8080/"
        },
        "id": "rR2a4Bz_YfpQ",
        "outputId": "e6998630-c43e-42b1-8ac3-704962b2920c"
      },
      "execution_count": 63,
      "outputs": [
        {
          "output_type": "stream",
          "name": "stdout",
          "text": [
            "{'apple', 'banana', 'cherry'}\n"
          ]
        }
      ]
    },
    {
      "cell_type": "code",
      "source": [],
      "metadata": {
        "id": "hILh4My7ZBSK"
      },
      "execution_count": null,
      "outputs": []
    }
  ]
}